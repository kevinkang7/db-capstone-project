{
 "cells": [
  {
   "cell_type": "code",
   "execution_count": 10,
   "id": "6b55beb0",
   "metadata": {},
   "outputs": [
    {
     "name": "stdout",
     "output_type": "stream",
     "text": [
      "Connection between MySQL and Python is established.\n",
      "\n"
     ]
    }
   ],
   "source": [
    "import mysql.connector as connector\n",
    "\n",
    "# Establish connection between Python and MySQL database via connector API\n",
    "connection=connector.connect(\n",
    "    host=\"localhost\",\n",
    "    user=\"root\", # use your own\n",
    "    password=\"2324\", # use your own\n",
    "    )\n",
    "print(\"Connection between MySQL and Python is established.\\n\")"
   ]
  },
  {
   "cell_type": "code",
   "execution_count": 11,
   "id": "e2af0c32",
   "metadata": {},
   "outputs": [],
   "source": [
    "cursor = connection.cursor()\n",
    "\n",
    "cursor.execute(\"USE LittleLemonDB\") \n",
    "\n"
   ]
  },
  {
   "cell_type": "code",
   "execution_count": 12,
   "id": "bfab2aa5",
   "metadata": {},
   "outputs": [
    {
     "name": "stdout",
     "output_type": "stream",
     "text": [
      "('Tables_in_littlelemondb',)\n",
      "('bookings',)\n",
      "('customers',)\n",
      "('delivery',)\n",
      "('menus',)\n",
      "('order_view',)\n",
      "('orders',)\n",
      "('staff',)\n"
     ]
    }
   ],
   "source": [
    "\n",
    "# The SQL query is:\n",
    "show_table_query = \"\"\"SHOW tables \n",
    "\n",
    "\"\"\"\n",
    "\n",
    "cursor.execute(show_table_query)\n",
    "results = cursor.fetchall()\n",
    "\n",
    "print(cursor.column_names)\n",
    "for result in results:\n",
    "    print(result)"
   ]
  },
  {
   "cell_type": "code",
   "execution_count": 13,
   "id": "dbee1b17",
   "metadata": {},
   "outputs": [
    {
     "name": "stdout",
     "output_type": "stream",
     "text": [
      "('CustomerName', 'contactInfo')\n",
      "('Kevin Love', '567-345-0045')\n",
      "('Yao Ming', '565-453-7545')\n"
     ]
    }
   ],
   "source": [
    "show_table_query = \"\"\"\n",
    "SELECT CustomerName, contactInfo\n",
    "FROM customers AS c\n",
    "        INNER JOIN (\n",
    "        SELECT b.CustomerID\n",
    "        FROM orders AS o\n",
    "        LEFT JOIN bookings AS b ON o.BookingID = b.BookingID\n",
    "        WHERE o.BillAmount > 60\n",
    "        ) AS filter_orders \n",
    "        ON c.CustomerID = filter_orders.CustomerID\n",
    "\"\"\"\n",
    "\n",
    "cursor.execute(show_table_query)\n",
    "results = cursor.fetchall()\n",
    "\n",
    "print(cursor.column_names)\n",
    "for result in results:\n",
    "    print(result)"
   ]
  },
  {
   "cell_type": "code",
   "execution_count": 9,
   "id": "952e0806",
   "metadata": {},
   "outputs": [
    {
     "name": "stdout",
     "output_type": "stream",
     "text": [
      "The cursor is closed.\n",
      "MySQL connection is closed.\n"
     ]
    }
   ],
   "source": [
    "# Let's close the cursor and the connection\n",
    "if connection.is_connected():\n",
    "    cursor.close()\n",
    "    print(\"The cursor is closed.\")\n",
    "    connection.close()\n",
    "    print(\"MySQL connection is closed.\")\n",
    "else:\n",
    "    print(\"Connection is already closed\")"
   ]
  }
 ],
 "metadata": {
  "kernelspec": {
   "display_name": "base",
   "language": "python",
   "name": "python3"
  },
  "language_info": {
   "codemirror_mode": {
    "name": "ipython",
    "version": 3
   },
   "file_extension": ".py",
   "mimetype": "text/x-python",
   "name": "python",
   "nbconvert_exporter": "python",
   "pygments_lexer": "ipython3",
   "version": "3.9.19"
  }
 },
 "nbformat": 4,
 "nbformat_minor": 5
}
